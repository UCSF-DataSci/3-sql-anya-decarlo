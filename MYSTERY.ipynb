{
 "cells": [
  {
   "cell_type": "markdown",
   "id": "ebb94371",
   "metadata": {},
   "source": [
    "# SQL Murder Mystery\n",
    "\n",
    "## Can you find out whodunnit?\n",
    "\n",
    "![A decorative illustration of a detective looking at an evidence board.](https://mystery.knightlab.com/174092-clue-illustration.png)\n",
    "\n",
    "There's been a Murder in SQL City! The SQL Murder Mystery is designed to be both a self-directed lesson to learn SQL concepts and commands and a fun game for experienced SQL users to solve an intriguing crime.\n",
    "\n",
    "## SQL sleuths start here\n",
    "\n",
    "A crime has taken place and the detective needs your help. The detective gave you the crime scene report, but you somehow lost it. You vaguely remember that the crime was a **​murder​**that occurred sometime on ​**Jan.15, 2018​** and that it took place in ​**SQL City​**. Start by retrieving the corresponding crime scene report from the police department’s database.\n",
    "\n",
    "### Exploring the Database Structure\n",
    "\n",
    "Experienced SQL users can often use database queries to infer the structure of a database. But each database system has different ways of managing this information. The SQL Murder Mystery is built using SQLite. Use this SQL command to find the tables in the Murder Mystery database.\n",
    "\n",
    "Run this query to find the names of the tables in this database.\n",
    "\n",
    "This command is specific to SQLite. For other databases, you'll have to learn their specific syntax.\n"
   ]
  },
  {
   "cell_type": "code",
   "execution_count": 2,
   "id": "1370e6a4",
   "metadata": {},
   "outputs": [
    {
     "name": "stdout",
     "output_type": "stream",
     "text": [
      "Note: you may need to restart the kernel to use updated packages.\n"
     ]
    },
    {
     "data": {
      "text/html": [
       "<span style=\"None\">Connecting to &#x27;sqlite:///sql-murder-mystery.db&#x27;</span>"
      ],
      "text/plain": [
       "Connecting to 'sqlite:///sql-murder-mystery.db'"
      ]
     },
     "metadata": {},
     "output_type": "display_data"
    }
   ],
   "source": [
    "# Install required packages\n",
    "%pip install jupysql sqlalchemy pandas --quiet\n",
    "\n",
    "# Load SQL magic\n",
    "%load_ext sql\n",
    "\n",
    "# Connect to the database\n",
    "%sql sqlite:///sql-murder-mystery.db\n",
    "#%config SqlMagic.style = 'table'"
   ]
  },
  {
   "cell_type": "code",
   "execution_count": 3,
   "id": "2f0d9254",
   "metadata": {},
   "outputs": [
    {
     "data": {
      "text/html": [
       "<span style=\"None\">Running query in &#x27;sqlite:///sql-murder-mystery.db&#x27;</span>"
      ],
      "text/plain": [
       "Running query in 'sqlite:///sql-murder-mystery.db'"
      ]
     },
     "metadata": {},
     "output_type": "display_data"
    },
    {
     "data": {
      "text/html": [
       "<table>\n",
       "    <thead>\n",
       "        <tr>\n",
       "            <th>name</th>\n",
       "        </tr>\n",
       "    </thead>\n",
       "    <tbody>\n",
       "        <tr>\n",
       "            <td>crime_scene_report</td>\n",
       "        </tr>\n",
       "        <tr>\n",
       "            <td>drivers_license</td>\n",
       "        </tr>\n",
       "        <tr>\n",
       "            <td>facebook_event_checkin</td>\n",
       "        </tr>\n",
       "        <tr>\n",
       "            <td>interview</td>\n",
       "        </tr>\n",
       "        <tr>\n",
       "            <td>get_fit_now_member</td>\n",
       "        </tr>\n",
       "        <tr>\n",
       "            <td>sqlite_autoindex_get_fit_now_member_1</td>\n",
       "        </tr>\n",
       "        <tr>\n",
       "            <td>get_fit_now_check_in</td>\n",
       "        </tr>\n",
       "        <tr>\n",
       "            <td>solution</td>\n",
       "        </tr>\n",
       "        <tr>\n",
       "            <td>check_solution</td>\n",
       "        </tr>\n",
       "        <tr>\n",
       "            <td>income</td>\n",
       "        </tr>\n",
       "    </tbody>\n",
       "</table>\n",
       "<span style=\"font-style:italic;text-align:center;\">Truncated to <a href=\"https://jupysql.ploomber.io/en/latest/api/configuration.html#displaylimit\">displaylimit</a> of 10.</span>"
      ],
      "text/plain": [
       "+---------------------------------------+\n",
       "|                  name                 |\n",
       "+---------------------------------------+\n",
       "|           crime_scene_report          |\n",
       "|            drivers_license            |\n",
       "|         facebook_event_checkin        |\n",
       "|               interview               |\n",
       "|           get_fit_now_member          |\n",
       "| sqlite_autoindex_get_fit_now_member_1 |\n",
       "|          get_fit_now_check_in         |\n",
       "|                solution               |\n",
       "|             check_solution            |\n",
       "|                 income                |\n",
       "+---------------------------------------+\n",
       "Truncated to displaylimit of 10."
      ]
     },
     "execution_count": 3,
     "metadata": {},
     "output_type": "execute_result"
    }
   ],
   "source": [
    "%%sql\n",
    "SELECT name\n",
    "FROM sqlite_master"
   ]
  },
  {
   "cell_type": "markdown",
   "id": "c71b53aa",
   "metadata": {},
   "source": [
    "\n",
    "Besides knowing the table names, you need to know how each table is structured. The way this works is also dependent upon which database technology you use. Here's how you do it with SQLite.\n",
    "\n",
    "Run this query to find the structure of the `crime_scene_report` table\n",
    "\n",
    "Change the value of 'name' to see the structure of the other tables you learned about with the previous query.\n"
   ]
  },
  {
   "cell_type": "code",
   "execution_count": 4,
   "id": "a977d922",
   "metadata": {},
   "outputs": [
    {
     "data": {
      "text/html": [
       "<span style=\"None\">Running query in &#x27;sqlite:///sql-murder-mystery.db&#x27;</span>"
      ],
      "text/plain": [
       "Running query in 'sqlite:///sql-murder-mystery.db'"
      ]
     },
     "metadata": {},
     "output_type": "display_data"
    },
    {
     "data": {
      "text/html": [
       "<table>\n",
       "    <thead>\n",
       "        <tr>\n",
       "            <th>sql</th>\n",
       "        </tr>\n",
       "    </thead>\n",
       "    <tbody>\n",
       "        <tr>\n",
       "            <td>CREATE TABLE crime_scene_report (<br>        date integer,<br>        type text,<br>        description text,<br>        city text<br>    )</td>\n",
       "        </tr>\n",
       "    </tbody>\n",
       "</table>"
      ],
      "text/plain": [
       "+-----------------------------------+\n",
       "|                sql                |\n",
       "+-----------------------------------+\n",
       "| CREATE TABLE crime_scene_report ( |\n",
       "|               date integer,       |\n",
       "|                 type text,        |\n",
       "|             description text,     |\n",
       "|                 city text         |\n",
       "|                   )               |\n",
       "+-----------------------------------+"
      ]
     },
     "execution_count": 4,
     "metadata": {},
     "output_type": "execute_result"
    }
   ],
   "source": [
    "%%sql\n",
    "SELECT sql\n",
    "FROM sqlite_master\n",
    "where name = 'crime_scene_report'"
   ]
  },
  {
   "cell_type": "markdown",
   "id": "d9789bc7",
   "metadata": {},
   "source": [
    "\n",
    "### The rest is up to you!\n",
    "\n",
    "If you're really comfortable with SQL, you can probably get it from here. To help, here is the schema diagram:\n",
    "\n",
    "![schema diagram](schema.png)\n",
    "\n",
    "Use your knowledge of the database schema and SQL commands to find out who committed the murder.\n",
    "### Check your solution\n",
    "\n",
    "Did you find the killer? When you think you know the answer, submit your suspect using the following code and find out if you're right.\n"
   ]
  },
  {
   "cell_type": "code",
   "execution_count": 39,
   "id": "830ea4a6",
   "metadata": {},
   "outputs": [
    {
     "data": {
      "text/html": [
       "<span style=\"None\">Running query in &#x27;sqlite:///sql-murder-mystery.db&#x27;</span>"
      ],
      "text/plain": [
       "Running query in 'sqlite:///sql-murder-mystery.db'"
      ]
     },
     "metadata": {},
     "output_type": "display_data"
    },
    {
     "data": {
      "text/html": [
       "<span style=\"color: green\">1 rows affected.</span>"
      ],
      "text/plain": [
       "1 rows affected."
      ]
     },
     "metadata": {},
     "output_type": "display_data"
    },
    {
     "data": {
      "text/html": [
       "<table>\n",
       "    <thead>\n",
       "        <tr>\n",
       "            <th>value</th>\n",
       "        </tr>\n",
       "    </thead>\n",
       "    <tbody>\n",
       "        <tr>\n",
       "            <td>Congrats, you found the brains behind the murder! Everyone in SQL City hails you as the greatest SQL detective of all time. Time to break out the champagne!</td>\n",
       "        </tr>\n",
       "    </tbody>\n",
       "</table>"
      ],
      "text/plain": [
       "+--------------------------------------------------------------------------------------------------------------------------------------------------------------+\n",
       "|                                                                            value                                                                             |\n",
       "+--------------------------------------------------------------------------------------------------------------------------------------------------------------+\n",
       "| Congrats, you found the brains behind the murder! Everyone in SQL City hails you as the greatest SQL detective of all time. Time to break out the champagne! |\n",
       "+--------------------------------------------------------------------------------------------------------------------------------------------------------------+"
      ]
     },
     "execution_count": 39,
     "metadata": {},
     "output_type": "execute_result"
    }
   ],
   "source": [
    "%%sql\n",
    "INSERT INTO solution VALUES (1, 'Miranda Priestly');\n",
    "SELECT value FROM solution;"
   ]
  },
  {
   "cell_type": "code",
   "execution_count": 5,
   "id": "59245da2",
   "metadata": {},
   "outputs": [
    {
     "data": {
      "text/html": [
       "<span style=\"None\">Running query in &#x27;sqlite:///sql-murder-mystery.db&#x27;</span>"
      ],
      "text/plain": [
       "Running query in 'sqlite:///sql-murder-mystery.db'"
      ]
     },
     "metadata": {},
     "output_type": "display_data"
    },
    {
     "data": {
      "text/html": [
       "<table>\n",
       "    <thead>\n",
       "        <tr>\n",
       "            <th>date</th>\n",
       "            <th>type</th>\n",
       "            <th>description</th>\n",
       "            <th>city</th>\n",
       "        </tr>\n",
       "    </thead>\n",
       "    <tbody>\n",
       "        <tr>\n",
       "            <td>20180115</td>\n",
       "            <td>murder</td>\n",
       "            <td>Security footage shows that there were 2 witnesses. The first witness lives at the last house on \"Northwestern Dr\". The second witness, named Annabel, lives somewhere on \"Franklin Ave\".</td>\n",
       "            <td>SQL City</td>\n",
       "        </tr>\n",
       "    </tbody>\n",
       "</table>"
      ],
      "text/plain": [
       "+----------+--------+-------------------------------------------------------------------------------------------------------------------------------------------------------------------------------------------+----------+\n",
       "|   date   |  type  |                                                                                        description                                                                                        |   city   |\n",
       "+----------+--------+-------------------------------------------------------------------------------------------------------------------------------------------------------------------------------------------+----------+\n",
       "| 20180115 | murder | Security footage shows that there were 2 witnesses. The first witness lives at the last house on \"Northwestern Dr\". The second witness, named Annabel, lives somewhere on \"Franklin Ave\". | SQL City |\n",
       "+----------+--------+-------------------------------------------------------------------------------------------------------------------------------------------------------------------------------------------+----------+"
      ]
     },
     "execution_count": 5,
     "metadata": {},
     "output_type": "execute_result"
    }
   ],
   "source": [
    "%%sql\n",
    "SELECT *\n",
    "FROM crime_scene_report\n",
    "WHERE date = 20180115 AND type = 'murder' AND city = 'SQL City';"
   ]
  },
  {
   "cell_type": "code",
   "execution_count": 7,
   "id": "5d3a21ff",
   "metadata": {},
   "outputs": [
    {
     "data": {
      "text/html": [
       "<span style=\"None\">Running query in &#x27;sqlite:///sql-murder-mystery.db&#x27;</span>"
      ],
      "text/plain": [
       "Running query in 'sqlite:///sql-murder-mystery.db'"
      ]
     },
     "metadata": {},
     "output_type": "display_data"
    },
    {
     "data": {
      "text/html": [
       "<table>\n",
       "    <thead>\n",
       "        <tr>\n",
       "            <th>person_id</th>\n",
       "            <th>name</th>\n",
       "            <th>address_street_name</th>\n",
       "            <th>address_number</th>\n",
       "            <th>transcript</th>\n",
       "        </tr>\n",
       "    </thead>\n",
       "    <tbody>\n",
       "        <tr>\n",
       "            <td>16371</td>\n",
       "            <td>Annabel Miller</td>\n",
       "            <td>Franklin Ave</td>\n",
       "            <td>103</td>\n",
       "            <td>I saw the murder happen, and I recognized the killer from my gym when I was working out last week on January the 9th.</td>\n",
       "        </tr>\n",
       "    </tbody>\n",
       "</table>"
      ],
      "text/plain": [
       "+-----------+----------------+---------------------+----------------+-----------------------------------------------------------------------------------------------------------------------+\n",
       "| person_id |      name      | address_street_name | address_number |                                                       transcript                                                      |\n",
       "+-----------+----------------+---------------------+----------------+-----------------------------------------------------------------------------------------------------------------------+\n",
       "|   16371   | Annabel Miller |     Franklin Ave    |      103       | I saw the murder happen, and I recognized the killer from my gym when I was working out last week on January the 9th. |\n",
       "+-----------+----------------+---------------------+----------------+-----------------------------------------------------------------------------------------------------------------------+"
      ]
     },
     "execution_count": 7,
     "metadata": {},
     "output_type": "execute_result"
    }
   ],
   "source": [
    "%%sql\n",
    "SELECT i.person_id, p.name, p.address_street_name, p.address_number, i.transcript\n",
    "FROM interview i\n",
    "JOIN person p ON i.person_id = p.id\n",
    "WHERE p.name LIKE '%Annabel%'\n",
    "AND (p.address_street_name LIKE '%Northwestern Dr%' OR p.address_street_name LIKE '%Franklin Ave%');"
   ]
  },
  {
   "cell_type": "code",
   "execution_count": null,
   "id": "0c537a14",
   "metadata": {},
   "outputs": [
    {
     "data": {
      "text/html": [
       "<span style=\"None\">Running query in &#x27;sqlite:///sql-murder-mystery.db&#x27;</span>"
      ],
      "text/plain": [
       "Running query in 'sqlite:///sql-murder-mystery.db'"
      ]
     },
     "metadata": {},
     "output_type": "display_data"
    },
    {
     "data": {
      "text/html": [
       "<table>\n",
       "    <thead>\n",
       "        <tr>\n",
       "            <th>person_id</th>\n",
       "            <th>name</th>\n",
       "            <th>address_street_name</th>\n",
       "            <th>address_number</th>\n",
       "            <th>transcript</th>\n",
       "        </tr>\n",
       "    </thead>\n",
       "    <tbody>\n",
       "        <tr>\n",
       "            <td>15171</td>\n",
       "            <td>Weldon Penso</td>\n",
       "            <td>Northwestern Dr</td>\n",
       "            <td>311</td>\n",
       "            <td>the verses to himself: ‘“WE KNOW IT TO BE TRUE--” that’s the jury, of<br></td>\n",
       "        </tr>\n",
       "        <tr>\n",
       "            <td>40336</td>\n",
       "            <td>Fredia Billeter</td>\n",
       "            <td>Northwestern Dr</td>\n",
       "            <td>404</td>\n",
       "            <td>stretched her arms round it as far as they would go, and broke off a bit<br></td>\n",
       "        </tr>\n",
       "        <tr>\n",
       "            <td>85280</td>\n",
       "            <td>Donn Duin</td>\n",
       "            <td>Northwestern Dr</td>\n",
       "            <td>540</td>\n",
       "            <td>verse.’<br></td>\n",
       "        </tr>\n",
       "        <tr>\n",
       "            <td>12711</td>\n",
       "            <td>Norman Apolito</td>\n",
       "            <td>Northwestern Dr</td>\n",
       "            <td>599</td>\n",
       "            <td><br></td>\n",
       "        </tr>\n",
       "        <tr>\n",
       "            <td>75484</td>\n",
       "            <td>Del Tacderen</td>\n",
       "            <td>Northwestern Dr</td>\n",
       "            <td>607</td>\n",
       "            <td>‘We had the best of educations--in fact, we went to school every day--’<br></td>\n",
       "        </tr>\n",
       "        <tr>\n",
       "            <td>26758</td>\n",
       "            <td>Angelena Billman</td>\n",
       "            <td>Northwestern Dr</td>\n",
       "            <td>629</td>\n",
       "            <td> Will you, won’t you, will you, won’t you, won’t you join the dance?<br></td>\n",
       "        </tr>\n",
       "        <tr>\n",
       "            <td>39688</td>\n",
       "            <td>Abe Roeker</td>\n",
       "            <td>Northwestern Dr</td>\n",
       "            <td>689</td>\n",
       "            <td>‘Hold your tongue!’ said the Queen, turning purple.<br></td>\n",
       "        </tr>\n",
       "        <tr>\n",
       "            <td>25615</td>\n",
       "            <td>Olevia Morena</td>\n",
       "            <td>Northwestern Dr</td>\n",
       "            <td>812</td>\n",
       "            <td>when I learn music.’<br></td>\n",
       "        </tr>\n",
       "        <tr>\n",
       "            <td>23960</td>\n",
       "            <td>Kristopher Lagerberg</td>\n",
       "            <td>Northwestern Dr</td>\n",
       "            <td>1392</td>\n",
       "            <td>This was quite a new idea to Alice, and she thought it over a little<br></td>\n",
       "        </tr>\n",
       "        <tr>\n",
       "            <td>71924</td>\n",
       "            <td>Laurie Scronce</td>\n",
       "            <td>Northwestern Dr</td>\n",
       "            <td>1418</td>\n",
       "            <td>interrupted: ‘UNimportant, your Majesty means, of course,’ he said in a<br></td>\n",
       "        </tr>\n",
       "    </tbody>\n",
       "</table>\n",
       "<span style=\"font-style:italic;text-align:center;\">Truncated to <a href=\"https://jupysql.ploomber.io/en/latest/api/configuration.html#displaylimit\">displaylimit</a> of 10.</span>"
      ],
      "text/plain": [
       "+-----------+----------------------+---------------------+----------------+--------------------------------------------------------------------------+\n",
       "| person_id |         name         | address_street_name | address_number |                                transcript                                |\n",
       "+-----------+----------------------+---------------------+----------------+--------------------------------------------------------------------------+\n",
       "|   15171   |     Weldon Penso     |   Northwestern Dr   |      311       |  the verses to himself: ‘“WE KNOW IT TO BE TRUE--” that’s the jury, of   |\n",
       "|           |                      |                     |                |                                                                          |\n",
       "|   40336   |   Fredia Billeter    |   Northwestern Dr   |      404       | stretched her arms round it as far as they would go, and broke off a bit |\n",
       "|           |                      |                     |                |                                                                          |\n",
       "|   85280   |      Donn Duin       |   Northwestern Dr   |      540       |                                 verse.’                                  |\n",
       "|           |                      |                     |                |                                                                          |\n",
       "|   12711   |    Norman Apolito    |   Northwestern Dr   |      599       |                                                                          |\n",
       "|           |                      |                     |                |                                                                          |\n",
       "|   75484   |     Del Tacderen     |   Northwestern Dr   |      607       | ‘We had the best of educations--in fact, we went to school every day--’  |\n",
       "|           |                      |                     |                |                                                                          |\n",
       "|   26758   |   Angelena Billman   |   Northwestern Dr   |      629       |    Will you, won’t you, will you, won’t you, won’t you join the dance?   |\n",
       "|           |                      |                     |                |                                                                          |\n",
       "|   39688   |      Abe Roeker      |   Northwestern Dr   |      689       |           ‘Hold your tongue!’ said the Queen, turning purple.            |\n",
       "|           |                      |                     |                |                                                                          |\n",
       "|   25615   |    Olevia Morena     |   Northwestern Dr   |      812       |                           when I learn music.’                           |\n",
       "|           |                      |                     |                |                                                                          |\n",
       "|   23960   | Kristopher Lagerberg |   Northwestern Dr   |      1392      |   This was quite a new idea to Alice, and she thought it over a little   |\n",
       "|           |                      |                     |                |                                                                          |\n",
       "|   71924   |    Laurie Scronce    |   Northwestern Dr   |      1418      | interrupted: ‘UNimportant, your Majesty means, of course,’ he said in a  |\n",
       "|           |                      |                     |                |                                                                          |\n",
       "+-----------+----------------------+---------------------+----------------+--------------------------------------------------------------------------+\n",
       "Truncated to displaylimit of 10."
      ]
     },
     "execution_count": 10,
     "metadata": {},
     "output_type": "execute_result"
    }
   ],
   "source": [
    "# Difficulty finding last house, will come back to \n",
    "%%sql\n",
    "SELECT i.person_id, p.name, p.address_street_name, p.address_number, i.transcript\n",
    "FROM interview i\n",
    "JOIN person p ON i.person_id = p.id\n",
    "WHERE p.address_street_name LIKE '%Northwestern Dr%'\n",
    "ORDER BY p.address_number ASC"
   ]
  },
  {
   "cell_type": "code",
   "execution_count": 28,
   "id": "117fb9d1",
   "metadata": {},
   "outputs": [
    {
     "data": {
      "text/html": [
       "<span style=\"None\">Running query in &#x27;sqlite:///sql-murder-mystery.db&#x27;</span>"
      ],
      "text/plain": [
       "Running query in 'sqlite:///sql-murder-mystery.db'"
      ]
     },
     "metadata": {},
     "output_type": "display_data"
    },
    {
     "data": {
      "text/html": [
       "<table>\n",
       "    <thead>\n",
       "        <tr>\n",
       "            <th>id</th>\n",
       "            <th>person_id</th>\n",
       "            <th>name</th>\n",
       "            <th>membership_start_date</th>\n",
       "            <th>membership_status</th>\n",
       "            <th>membership_id</th>\n",
       "            <th>check_in_date</th>\n",
       "            <th>check_in_time</th>\n",
       "            <th>check_out_time</th>\n",
       "        </tr>\n",
       "    </thead>\n",
       "    <tbody>\n",
       "        <tr>\n",
       "            <td>48Z7A</td>\n",
       "            <td>28819</td>\n",
       "            <td>Joe Germuska</td>\n",
       "            <td>20160305</td>\n",
       "            <td>gold</td>\n",
       "            <td>48Z7A</td>\n",
       "            <td>20180109</td>\n",
       "            <td>1600</td>\n",
       "            <td>1730</td>\n",
       "        </tr>\n",
       "        <tr>\n",
       "            <td>48Z55</td>\n",
       "            <td>67318</td>\n",
       "            <td>Jeremy Bowers</td>\n",
       "            <td>20160101</td>\n",
       "            <td>gold</td>\n",
       "            <td>48Z55</td>\n",
       "            <td>20180109</td>\n",
       "            <td>1530</td>\n",
       "            <td>1700</td>\n",
       "        </tr>\n",
       "        <tr>\n",
       "            <td>90081</td>\n",
       "            <td>16371</td>\n",
       "            <td>Annabel Miller</td>\n",
       "            <td>20160208</td>\n",
       "            <td>gold</td>\n",
       "            <td>90081</td>\n",
       "            <td>20180109</td>\n",
       "            <td>1600</td>\n",
       "            <td>1700</td>\n",
       "        </tr>\n",
       "    </tbody>\n",
       "</table>"
      ],
      "text/plain": [
       "+-------+-----------+----------------+-----------------------+-------------------+---------------+---------------+---------------+----------------+\n",
       "|   id  | person_id |      name      | membership_start_date | membership_status | membership_id | check_in_date | check_in_time | check_out_time |\n",
       "+-------+-----------+----------------+-----------------------+-------------------+---------------+---------------+---------------+----------------+\n",
       "| 48Z7A |   28819   |  Joe Germuska  |        20160305       |        gold       |     48Z7A     |    20180109   |      1600     |      1730      |\n",
       "| 48Z55 |   67318   | Jeremy Bowers  |        20160101       |        gold       |     48Z55     |    20180109   |      1530     |      1700      |\n",
       "| 90081 |   16371   | Annabel Miller |        20160208       |        gold       |     90081     |    20180109   |      1600     |      1700      |\n",
       "+-------+-----------+----------------+-----------------------+-------------------+---------------+---------------+---------------+----------------+"
      ]
     },
     "execution_count": 28,
     "metadata": {},
     "output_type": "execute_result"
    }
   ],
   "source": [
    "%%sql\n",
    "SELECT m.*, c.*\n",
    "FROM get_fit_now_member m\n",
    "JOIN get_fit_now_check_in c ON m.id = c.membership_id\n",
    "WHERE c.check_in_date = 20180109 \n",
    "  AND (c.check_in_time BETWEEN 1600 AND 1700 OR c.check_out_time BETWEEN 1600 AND 1700)"
   ]
  },
  {
   "cell_type": "code",
   "execution_count": 35,
   "id": "af76d578",
   "metadata": {},
   "outputs": [
    {
     "data": {
      "text/html": [
       "<span style=\"None\">Running query in &#x27;sqlite:///sql-murder-mystery.db&#x27;</span>"
      ],
      "text/plain": [
       "Running query in 'sqlite:///sql-murder-mystery.db'"
      ]
     },
     "metadata": {},
     "output_type": "display_data"
    },
    {
     "data": {
      "text/html": [
       "<table>\n",
       "    <thead>\n",
       "        <tr>\n",
       "            <th>person_id</th>\n",
       "            <th>name</th>\n",
       "            <th>address_street_name</th>\n",
       "            <th>address_number</th>\n",
       "            <th>transcript</th>\n",
       "        </tr>\n",
       "    </thead>\n",
       "    <tbody>\n",
       "        <tr>\n",
       "            <td>67318</td>\n",
       "            <td>Jeremy Bowers</td>\n",
       "            <td>Washington Pl, Apt 3A</td>\n",
       "            <td>530</td>\n",
       "            <td>I was hired by a woman with a lot of money. I don't know her name but I know she's around 5'5\" (65\") or 5'7\" (67\"). She has red hair and she drives a Tesla Model S. I know that she attended the SQL Symphony Concert 3 times in December 2017.<br></td>\n",
       "        </tr>\n",
       "    </tbody>\n",
       "</table>"
      ],
      "text/plain": [
       "+-----------+---------------+-----------------------+----------------+--------------------------------------------------------------------------------------------------------------------------------------------------------------------------------------------------------------------------------------------------+\n",
       "| person_id |      name     |  address_street_name  | address_number |                                                                                                                    transcript                                                                                                                    |\n",
       "+-----------+---------------+-----------------------+----------------+--------------------------------------------------------------------------------------------------------------------------------------------------------------------------------------------------------------------------------------------------+\n",
       "|   67318   | Jeremy Bowers | Washington Pl, Apt 3A |      530       | I was hired by a woman with a lot of money. I don't know her name but I know she's around 5'5\" (65\") or 5'7\" (67\"). She has red hair and she drives a Tesla Model S. I know that she attended the SQL Symphony Concert 3 times in December 2017. |\n",
       "|           |               |                       |                |                                                                                                                                                                                                                                                  |\n",
       "+-----------+---------------+-----------------------+----------------+--------------------------------------------------------------------------------------------------------------------------------------------------------------------------------------------------------------------------------------------------+"
      ]
     },
     "execution_count": 35,
     "metadata": {},
     "output_type": "execute_result"
    }
   ],
   "source": [
    "%%sql\n",
    "SELECT i.person_id, p.name, p.address_street_name, p.address_number, i.transcript\n",
    "FROM interview i\n",
    "JOIN person p ON i.person_id = p.id\n",
    "WHERE p.name LIKE '%Jeremy Bowers%';"
   ]
  },
  {
   "cell_type": "code",
   "execution_count": 38,
   "id": "fbc448f7",
   "metadata": {},
   "outputs": [
    {
     "data": {
      "text/html": [
       "<span style=\"None\">Running query in &#x27;sqlite:///sql-murder-mystery.db&#x27;</span>"
      ],
      "text/plain": [
       "Running query in 'sqlite:///sql-murder-mystery.db'"
      ]
     },
     "metadata": {},
     "output_type": "display_data"
    },
    {
     "data": {
      "text/html": [
       "<table>\n",
       "    <thead>\n",
       "        <tr>\n",
       "            <th>id</th>\n",
       "            <th>name</th>\n",
       "            <th>license_id</th>\n",
       "            <th>address_number</th>\n",
       "            <th>address_street_name</th>\n",
       "            <th>ssn</th>\n",
       "            <th>id_1</th>\n",
       "            <th>age</th>\n",
       "            <th>height</th>\n",
       "            <th>eye_color</th>\n",
       "            <th>hair_color</th>\n",
       "            <th>gender</th>\n",
       "            <th>plate_number</th>\n",
       "            <th>car_make</th>\n",
       "            <th>car_model</th>\n",
       "            <th>annual_income</th>\n",
       "            <th>event_name</th>\n",
       "            <th>date</th>\n",
       "        </tr>\n",
       "    </thead>\n",
       "    <tbody>\n",
       "        <tr>\n",
       "            <td>78881</td>\n",
       "            <td>Red Korb</td>\n",
       "            <td>918773</td>\n",
       "            <td>107</td>\n",
       "            <td>Camerata Dr</td>\n",
       "            <td>961388910</td>\n",
       "            <td>918773</td>\n",
       "            <td>48</td>\n",
       "            <td>65</td>\n",
       "            <td>black</td>\n",
       "            <td>red</td>\n",
       "            <td>female</td>\n",
       "            <td>917UU3</td>\n",
       "            <td>Tesla</td>\n",
       "            <td>Model S</td>\n",
       "            <td>278000</td>\n",
       "            <td>None</td>\n",
       "            <td>None</td>\n",
       "        </tr>\n",
       "        <tr>\n",
       "            <td>99716</td>\n",
       "            <td>Miranda Priestly</td>\n",
       "            <td>202298</td>\n",
       "            <td>1883</td>\n",
       "            <td>Golden Ave</td>\n",
       "            <td>987756388</td>\n",
       "            <td>202298</td>\n",
       "            <td>68</td>\n",
       "            <td>66</td>\n",
       "            <td>green</td>\n",
       "            <td>red</td>\n",
       "            <td>female</td>\n",
       "            <td>500123</td>\n",
       "            <td>Tesla</td>\n",
       "            <td>Model S</td>\n",
       "            <td>310000</td>\n",
       "            <td>SQL Symphony Concert</td>\n",
       "            <td>20171206</td>\n",
       "        </tr>\n",
       "        <tr>\n",
       "            <td>99716</td>\n",
       "            <td>Miranda Priestly</td>\n",
       "            <td>202298</td>\n",
       "            <td>1883</td>\n",
       "            <td>Golden Ave</td>\n",
       "            <td>987756388</td>\n",
       "            <td>202298</td>\n",
       "            <td>68</td>\n",
       "            <td>66</td>\n",
       "            <td>green</td>\n",
       "            <td>red</td>\n",
       "            <td>female</td>\n",
       "            <td>500123</td>\n",
       "            <td>Tesla</td>\n",
       "            <td>Model S</td>\n",
       "            <td>310000</td>\n",
       "            <td>SQL Symphony Concert</td>\n",
       "            <td>20171212</td>\n",
       "        </tr>\n",
       "        <tr>\n",
       "            <td>99716</td>\n",
       "            <td>Miranda Priestly</td>\n",
       "            <td>202298</td>\n",
       "            <td>1883</td>\n",
       "            <td>Golden Ave</td>\n",
       "            <td>987756388</td>\n",
       "            <td>202298</td>\n",
       "            <td>68</td>\n",
       "            <td>66</td>\n",
       "            <td>green</td>\n",
       "            <td>red</td>\n",
       "            <td>female</td>\n",
       "            <td>500123</td>\n",
       "            <td>Tesla</td>\n",
       "            <td>Model S</td>\n",
       "            <td>310000</td>\n",
       "            <td>SQL Symphony Concert</td>\n",
       "            <td>20171229</td>\n",
       "        </tr>\n",
       "    </tbody>\n",
       "</table>"
      ],
      "text/plain": [
       "+-------+------------------+------------+----------------+---------------------+-----------+--------+-----+--------+-----------+------------+--------+--------------+----------+-----------+---------------+----------------------+----------+\n",
       "|   id  |       name       | license_id | address_number | address_street_name |    ssn    |  id_1  | age | height | eye_color | hair_color | gender | plate_number | car_make | car_model | annual_income |      event_name      |   date   |\n",
       "+-------+------------------+------------+----------------+---------------------+-----------+--------+-----+--------+-----------+------------+--------+--------------+----------+-----------+---------------+----------------------+----------+\n",
       "| 78881 |     Red Korb     |   918773   |      107       |     Camerata Dr     | 961388910 | 918773 |  48 |   65   |   black   |    red     | female |    917UU3    |  Tesla   |  Model S  |     278000    |         None         |   None   |\n",
       "| 99716 | Miranda Priestly |   202298   |      1883      |      Golden Ave     | 987756388 | 202298 |  68 |   66   |   green   |    red     | female |    500123    |  Tesla   |  Model S  |     310000    | SQL Symphony Concert | 20171206 |\n",
       "| 99716 | Miranda Priestly |   202298   |      1883      |      Golden Ave     | 987756388 | 202298 |  68 |   66   |   green   |    red     | female |    500123    |  Tesla   |  Model S  |     310000    | SQL Symphony Concert | 20171212 |\n",
       "| 99716 | Miranda Priestly |   202298   |      1883      |      Golden Ave     | 987756388 | 202298 |  68 |   66   |   green   |    red     | female |    500123    |  Tesla   |  Model S  |     310000    | SQL Symphony Concert | 20171229 |\n",
       "+-------+------------------+------------+----------------+---------------------+-----------+--------+-----+--------+-----------+------------+--------+--------------+----------+-----------+---------------+----------------------+----------+"
      ]
     },
     "execution_count": 38,
     "metadata": {},
     "output_type": "execute_result"
    }
   ],
   "source": [
    "%%sql\n",
    "SELECT p.*, d.*, i.annual_income, f.event_name, f.date\n",
    "FROM person p\n",
    "JOIN drivers_license d ON p.license_id = d.id\n",
    "JOIN income i ON p.ssn = i.ssn\n",
    "LEFT JOIN facebook_event_checkin f ON p.id = f.person_id\n",
    "WHERE d.hair_color = 'red' \n",
    "  AND d.height BETWEEN 65 AND 67\n",
    "  AND d.car_make = 'Tesla'\n",
    "  AND d.car_model = 'Model S'\n",
    "  AND d.gender = 'female'"
   ]
  }
 ],
 "metadata": {
  "kernelspec": {
   "display_name": "base",
   "language": "python",
   "name": "python3"
  },
  "language_info": {
   "codemirror_mode": {
    "name": "ipython",
    "version": 3
   },
   "file_extension": ".py",
   "mimetype": "text/x-python",
   "name": "python",
   "nbconvert_exporter": "python",
   "pygments_lexer": "ipython3",
   "version": "3.12.9"
  }
 },
 "nbformat": 4,
 "nbformat_minor": 5
}
